{
 "cells": [
  {
   "cell_type": "code",
   "execution_count": 1,
   "id": "2c53a30c",
   "metadata": {},
   "outputs": [],
   "source": [
    "import os, shutil"
   ]
  },
  {
   "cell_type": "code",
   "execution_count": 10,
   "id": "2bc25cac",
   "metadata": {},
   "outputs": [],
   "source": [
    "path = r\"C:/Users/HP/Documents/Portfolio/Python.File/\""
   ]
  },
  {
   "cell_type": "code",
   "execution_count": 25,
   "id": "f7de7e20",
   "metadata": {},
   "outputs": [],
   "source": [
    "file_name = os.listdir(path)"
   ]
  },
  {
   "cell_type": "code",
   "execution_count": 27,
   "id": "7c98c981",
   "metadata": {},
   "outputs": [],
   "source": [
    "folder_names = ['jpg', 'xlsx', 'txt']\n",
    "\n",
    "for loop in range(0,3):\n",
    "    if not os.path.exists(path + folder_names[loop]):\n",
    "    \tos.makedirs(path + folder_names[loop])\n"
   ]
  },
  {
   "cell_type": "code",
   "execution_count": 36,
   "id": "d603b0f6",
   "metadata": {},
   "outputs": [],
   "source": [
    "for file in file_name:\n",
    "    if '.jpg' in file and not os.path.exists(path + 'jpg/' + file):\n",
    "        shutil.move(path + file, path + 'jpg/' + file)\n",
    "    elif '.xlsx' in file and not os.path.exists(path + 'xlsx/' + file):\n",
    "        shutil.move(path + file, path + 'xlsx/' + file)\n",
    "    elif '.txt' in file and not os.path.exists(path + 'txt/' + file):\n",
    "        shutil.move(path + file, path + 'txt/' + file)\n"
   ]
  },
  {
   "cell_type": "code",
   "execution_count": null,
   "id": "5f259821",
   "metadata": {},
   "outputs": [],
   "source": []
  },
  {
   "cell_type": "code",
   "execution_count": null,
   "id": "52b26bf8",
   "metadata": {},
   "outputs": [],
   "source": []
  },
  {
   "cell_type": "code",
   "execution_count": null,
   "id": "17b4435d",
   "metadata": {},
   "outputs": [],
   "source": []
  }
 ],
 "metadata": {
  "kernelspec": {
   "display_name": "Python 3 (ipykernel)",
   "language": "python",
   "name": "python3"
  },
  "language_info": {
   "codemirror_mode": {
    "name": "ipython",
    "version": 3
   },
   "file_extension": ".py",
   "mimetype": "text/x-python",
   "name": "python",
   "nbconvert_exporter": "python",
   "pygments_lexer": "ipython3",
   "version": "3.10.9"
  }
 },
 "nbformat": 4,
 "nbformat_minor": 5
}
