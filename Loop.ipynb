{
 "cells": [
  {
   "cell_type": "markdown",
   "id": "bdd99dfb",
   "metadata": {},
   "source": [
    "# While Loop"
   ]
  },
  {
   "cell_type": "code",
   "execution_count": 4,
   "id": "05ad0ad1",
   "metadata": {},
   "outputs": [
    {
     "name": "stdout",
     "output_type": "stream",
     "text": [
      "Enter a multiple of 745\n",
      "Enter a multiple of 724\n",
      "Enter a multiple of 747\n",
      "Enter a multiple of 749\n",
      "49 is a multiple of 7\n"
     ]
    }
   ],
   "source": [
    "val= int(input(\"Enter a multiple of 7\"))\n",
    "while val%7 !=0 :\n",
    "    val= int(input(\"Enter a multiple of 7\"))\n",
    "else :\n",
    "    print(\"%d is a multiple of 7\" %val)"
   ]
  },
  {
   "cell_type": "markdown",
   "id": "a7601e7b",
   "metadata": {},
   "source": [
    "# For Loop\n"
   ]
  },
  {
   "cell_type": "code",
   "execution_count": 7,
   "id": "03c3ffd0",
   "metadata": {},
   "outputs": [
    {
     "name": "stdout",
     "output_type": "stream",
     "text": [
      "1\n",
      "2\n",
      "simplilearn\n"
     ]
    }
   ],
   "source": [
    "x = [1,2,\"simplilearn\"]\n",
    "for i in x :\n",
    "    print (i)\n",
    "    \n"
   ]
  },
  {
   "cell_type": "code",
   "execution_count": 8,
   "id": "24798aa6",
   "metadata": {},
   "outputs": [
    {
     "name": "stdout",
     "output_type": "stream",
     "text": [
      "s\n",
      "i\n",
      "m\n",
      "p\n",
      "l\n",
      "i\n",
      "l\n",
      "e\n",
      "a\n",
      "r\n",
      "n\n"
     ]
    }
   ],
   "source": [
    "x = \"simplilearn\"\n",
    "for i in x :\n",
    "    print (i)\n",
    "    "
   ]
  },
  {
   "cell_type": "markdown",
   "id": "793df251",
   "metadata": {},
   "source": [
    "# Nested For Loop"
   ]
  },
  {
   "cell_type": "code",
   "execution_count": 12,
   "id": "78577bb9",
   "metadata": {},
   "outputs": [
    {
     "name": "stdout",
     "output_type": "stream",
     "text": [
      "123\n",
      "abc\n"
     ]
    }
   ],
   "source": [
    "x=[[1,2,3], ['a','b','c']]\n",
    "for i in x :\n",
    "    for j in i :\n",
    "        print(j, end=\"\")\n",
    "    print()"
   ]
  },
  {
   "cell_type": "markdown",
   "id": "2a14acd2",
   "metadata": {},
   "source": [
    "# Break Loop"
   ]
  },
  {
   "cell_type": "code",
   "execution_count": 15,
   "id": "af1e23e6",
   "metadata": {},
   "outputs": [
    {
     "name": "stdout",
     "output_type": "stream",
     "text": [
      "hey there"
     ]
    }
   ],
   "source": [
    "x = \"hey there. how are you?\"\n",
    "for i in x :\n",
    "    if i == \".\" :\n",
    "        break\n",
    "    print(i, end=\"\")"
   ]
  },
  {
   "cell_type": "markdown",
   "id": "f14fec1e",
   "metadata": {},
   "source": [
    "# Continue Loop"
   ]
  },
  {
   "cell_type": "code",
   "execution_count": 19,
   "id": "af801009",
   "metadata": {},
   "outputs": [
    {
     "name": "stdout",
     "output_type": "stream",
     "text": [
      "1\n",
      "2\n",
      "5\n"
     ]
    }
   ],
   "source": [
    "for i in [1,2,54,71,36,5] :\n",
    "    if i > 10 :\n",
    "        continue\n",
    "    print (i)"
   ]
  },
  {
   "cell_type": "code",
   "execution_count": null,
   "id": "9d320025",
   "metadata": {},
   "outputs": [],
   "source": []
  }
 ],
 "metadata": {
  "kernelspec": {
   "display_name": "Python 3 (ipykernel)",
   "language": "python",
   "name": "python3"
  },
  "language_info": {
   "codemirror_mode": {
    "name": "ipython",
    "version": 3
   },
   "file_extension": ".py",
   "mimetype": "text/x-python",
   "name": "python",
   "nbconvert_exporter": "python",
   "pygments_lexer": "ipython3",
   "version": "3.9.7"
  }
 },
 "nbformat": 4,
 "nbformat_minor": 5
}
