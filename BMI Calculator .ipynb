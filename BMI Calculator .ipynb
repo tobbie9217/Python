{
 "cells": [
  {
   "cell_type": "code",
   "execution_count": 11,
   "id": "221b6740",
   "metadata": {},
   "outputs": [
    {
     "name": "stdout",
     "output_type": "stream",
     "text": [
      "Name: SA\n",
      "Weight in Pounds: 50\n",
      "Height in Inches: 40\n",
      "21.96875\n",
      "Normal Weight\n"
     ]
    }
   ],
   "source": [
    "Name = input('Name: ')\n",
    "Weight = int(input('Weight in Pounds: '))\n",
    "Height = int(input('Height in Inches: '))\n",
    "BMI = (Weight * 703) / (Height * Height)\n",
    "print(BMI)\n",
    "if BMI>0:\n",
    "    if BMI<18.5:\n",
    "        print('Under Weight')\n",
    "    elif BMI<24.9:\n",
    "        print('Normal Weight')\n",
    "    elif BMI<34.9:\n",
    "        print('Obese')\n",
    "    elif BMI<39.9:\n",
    "        print('Severely Obese')\n",
    "    else:\n",
    "        print('Morbidly Obese')\n",
    "else:\n",
    "    print('Input Necesssary Data')"
   ]
  },
  {
   "cell_type": "raw",
   "id": "b631aab5",
   "metadata": {},
   "source": [
    "Under 18.5\tUnderweight\tMinimal\n",
    "18.5 - 24.9\tNormal Weight\tMinimal\n",
    "25 - 29.9\tOverweight\tIncreased\n",
    "30 - 34.9\tObese\tHigh\n",
    "35 - 39.9\tSeverely Obese\tVery High\n",
    "40 and over\tMorbidly Obese\tExtremely High"
   ]
  },
  {
   "cell_type": "code",
   "execution_count": null,
   "id": "b1a9e72f",
   "metadata": {},
   "outputs": [],
   "source": []
  }
 ],
 "metadata": {
  "kernelspec": {
   "display_name": "Python 3 (ipykernel)",
   "language": "python",
   "name": "python3"
  },
  "language_info": {
   "codemirror_mode": {
    "name": "ipython",
    "version": 3
   },
   "file_extension": ".py",
   "mimetype": "text/x-python",
   "name": "python",
   "nbconvert_exporter": "python",
   "pygments_lexer": "ipython3",
   "version": "3.10.9"
  }
 },
 "nbformat": 4,
 "nbformat_minor": 5
}
