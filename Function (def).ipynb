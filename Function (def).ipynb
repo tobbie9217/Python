{
 "cells": [
  {
   "cell_type": "code",
   "execution_count": 1,
   "id": "8895050b",
   "metadata": {},
   "outputs": [
    {
     "name": "stdout",
     "output_type": "stream",
     "text": [
      "Good morning\n"
     ]
    }
   ],
   "source": [
    "def welcome() :\n",
    "    print(\"Good morning\")\n",
    "welcome()\n",
    "    "
   ]
  },
  {
   "cell_type": "code",
   "execution_count": 17,
   "id": "6ea4421d",
   "metadata": {},
   "outputs": [
    {
     "name": "stdout",
     "output_type": "stream",
     "text": [
      "The sum is 30\n",
      "The sum is 5\n"
     ]
    }
   ],
   "source": [
    "def add(a,b) :\n",
    "    total=a+b\n",
    "    print(\"The sum is\", total)\n",
    "\n",
    "add(10,20)\n",
    "x=2\n",
    "y=3\n",
    "add(x,y)\n",
    " "
   ]
  },
  {
   "cell_type": "code",
   "execution_count": 14,
   "id": "a906dfab",
   "metadata": {},
   "outputs": [
    {
     "name": "stdout",
     "output_type": "stream",
     "text": [
      "The sum is 10\n"
     ]
    }
   ],
   "source": [
    "def add(a=0,b=0) :\n",
    "    total=a+b\n",
    "    print(\"The sum is\", total)\n",
    "\n",
    "add(10)"
   ]
  },
  {
   "cell_type": "code",
   "execution_count": 16,
   "id": "f4c7d84d",
   "metadata": {},
   "outputs": [
    {
     "name": "stdout",
     "output_type": "stream",
     "text": [
      "The sum is 5\n",
      "The sum is 30\n"
     ]
    }
   ],
   "source": [
    "def add(a,b) :\n",
    "    a=2\n",
    "    b=3\n",
    "    total=a+b\n",
    "    print(\"The sum is\", total)\n",
    "\n",
    "x=10\n",
    "y=20\n",
    "add(x,y)\n",
    "print(\"The sum is\", x+y)"
   ]
  },
  {
   "cell_type": "code",
   "execution_count": 18,
   "id": "f949a6ca",
   "metadata": {},
   "outputs": [
    {
     "name": "stdout",
     "output_type": "stream",
     "text": [
      "[1, 2, 3]\n",
      "[1, 2, 0]\n"
     ]
    }
   ],
   "source": [
    "def add (lst) :\n",
    "    lst[2]=0\n",
    "    \n",
    "lst=[1,2,3]\n",
    "print(lst)\n",
    "add(lst)\n",
    "print(lst)\n"
   ]
  },
  {
   "cell_type": "code",
   "execution_count": 1,
   "id": "39ee6b07",
   "metadata": {},
   "outputs": [
    {
     "name": "stdout",
     "output_type": "stream",
     "text": [
      "The multiplication is 200\n"
     ]
    }
   ],
   "source": [
    "def add(a,b) :\n",
    "    total=a*b\n",
    "    return total\n",
    "\n",
    "result=add(10,20)\n",
    "print(\"The multiplication is\", result)"
   ]
  },
  {
   "cell_type": "code",
   "execution_count": null,
   "id": "8dabb966",
   "metadata": {},
   "outputs": [],
   "source": []
  }
 ],
 "metadata": {
  "kernelspec": {
   "display_name": "Python 3 (ipykernel)",
   "language": "python",
   "name": "python3"
  },
  "language_info": {
   "codemirror_mode": {
    "name": "ipython",
    "version": 3
   },
   "file_extension": ".py",
   "mimetype": "text/x-python",
   "name": "python",
   "nbconvert_exporter": "python",
   "pygments_lexer": "ipython3",
   "version": "3.9.7"
  }
 },
 "nbformat": 4,
 "nbformat_minor": 5
}
