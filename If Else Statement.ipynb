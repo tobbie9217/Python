{
 "cells": [
  {
   "cell_type": "code",
   "execution_count": 1,
   "id": "5ff3b370",
   "metadata": {
    "scrolled": true
   },
   "outputs": [
    {
     "name": "stdout",
     "output_type": "stream",
     "text": [
      "This is the if body\n",
      "This is outside the if body\n"
     ]
    }
   ],
   "source": [
    "a=60\n",
    "if a>50 :\n",
    "    print(\"This is the if body\")\n",
    "print(\"This is outside the if body\")"
   ]
  },
  {
   "cell_type": "markdown",
   "id": "8af367a2",
   "metadata": {},
   "source": [
    "# If Else Statement"
   ]
  },
  {
   "cell_type": "code",
   "execution_count": 18,
   "id": "551e1bd3",
   "metadata": {},
   "outputs": [
    {
     "name": "stdout",
     "output_type": "stream",
     "text": [
      "This is the if block\n",
      "i is an even number\n"
     ]
    }
   ],
   "source": [
    "i=20\n",
    "if i%2==0:\n",
    "          print(\"This is the if block\")\n",
    "          print(\"i is an even number\")\n",
    "\n",
    "else:\n",
    "    \n",
    "    print(\"This is the else block\")\n",
    "    print(\"i is an odd number\")"
   ]
  },
  {
   "cell_type": "markdown",
   "id": "4d3b360d",
   "metadata": {},
   "source": [
    "# Nested If"
   ]
  },
  {
   "cell_type": "code",
   "execution_count": 4,
   "id": "2d306f25",
   "metadata": {},
   "outputs": [
    {
     "name": "stdout",
     "output_type": "stream",
     "text": [
      "c is an even less than 25\n"
     ]
    }
   ],
   "source": [
    "c=20\n",
    "if c<25:\n",
    "    if c%2==0:\n",
    "        print(\"c is an even less than 25\")\n",
    "    else:\n",
    "        print(\"c is an odd less than 25\")\n",
    "else:\n",
    "    print(\"c is greater than 25\")"
   ]
  },
  {
   "cell_type": "markdown",
   "id": "d24fcc48",
   "metadata": {},
   "source": [
    "# #If Elif Else Statement"
   ]
  },
  {
   "cell_type": "code",
   "execution_count": 30,
   "id": "979dbcc2",
   "metadata": {},
   "outputs": [
    {
     "name": "stdout",
     "output_type": "stream",
     "text": [
      "This is a consonant\n"
     ]
    }
   ],
   "source": [
    "var=\"z\"\n",
    "if var==\"a\":\n",
    "    print(\"This is a vowel a\")\n",
    "elif var==\"e\":\n",
    "    print(\"This is a vowel e\")\n",
    "elif var==\"i\":\n",
    "    print(\"This is a vowel i\")\n",
    "elif var==\"o\":\n",
    "    print(\"This is a vowel o\")\n",
    "elif var==\"u\":\n",
    "    print(\"This is a vowel u\")\n",
    "else:\n",
    "    print(\"This is a consonant\")"
   ]
  },
  {
   "cell_type": "code",
   "execution_count": null,
   "id": "7eb3a821",
   "metadata": {},
   "outputs": [],
   "source": []
  }
 ],
 "metadata": {
  "kernelspec": {
   "display_name": "Python 3 (ipykernel)",
   "language": "python",
   "name": "python3"
  },
  "language_info": {
   "codemirror_mode": {
    "name": "ipython",
    "version": 3
   },
   "file_extension": ".py",
   "mimetype": "text/x-python",
   "name": "python",
   "nbconvert_exporter": "python",
   "pygments_lexer": "ipython3",
   "version": "3.9.7"
  }
 },
 "nbformat": 4,
 "nbformat_minor": 5
}
