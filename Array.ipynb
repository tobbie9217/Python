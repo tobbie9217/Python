{
 "cells": [
  {
   "cell_type": "code",
   "execution_count": 7,
   "id": "6f5f5fbc",
   "metadata": {},
   "outputs": [
    {
     "name": "stdout",
     "output_type": "stream",
     "text": [
      "array('i', [1, 2, 3, 4, 5])\n"
     ]
    }
   ],
   "source": [
    "from array import *\n",
    "\n",
    "arr = array('i' , [1,2,3,4,5])\n",
    "print(arr)"
   ]
  },
  {
   "cell_type": "code",
   "execution_count": 2,
   "id": "1236a021",
   "metadata": {},
   "outputs": [
    {
     "name": "stdout",
     "output_type": "stream",
     "text": [
      "(2499601444240, 5)\n"
     ]
    }
   ],
   "source": [
    "print(arr.buffer_info())"
   ]
  },
  {
   "cell_type": "code",
   "execution_count": 3,
   "id": "fddc62f8",
   "metadata": {},
   "outputs": [
    {
     "name": "stdout",
     "output_type": "stream",
     "text": [
      "3\n"
     ]
    }
   ],
   "source": [
    "print(arr[2]) "
   ]
  },
  {
   "cell_type": "code",
   "execution_count": 4,
   "id": "cb3332b3",
   "metadata": {},
   "outputs": [
    {
     "name": "stdout",
     "output_type": "stream",
     "text": [
      "1\n",
      "2\n",
      "3\n",
      "4\n",
      "5\n"
     ]
    }
   ],
   "source": [
    "for i in arr :\n",
    "    print(i)"
   ]
  },
  {
   "cell_type": "code",
   "execution_count": 3,
   "id": "a1fc4fb3",
   "metadata": {},
   "outputs": [
    {
     "name": "stdout",
     "output_type": "stream",
     "text": [
      "1\n",
      "2\n",
      "3\n",
      "4\n"
     ]
    }
   ],
   "source": [
    "for i in range(1,5) :\n",
    "    print(i)"
   ]
  },
  {
   "cell_type": "code",
   "execution_count": 5,
   "id": "fff4461c",
   "metadata": {},
   "outputs": [
    {
     "name": "stdout",
     "output_type": "stream",
     "text": [
      "0 1\n",
      "1 2\n",
      "2 3\n",
      "3 4\n",
      "4 5\n"
     ]
    }
   ],
   "source": [
    "for pnt in range(5) :\n",
    "    print(pnt, arr[pnt])"
   ]
  },
  {
   "cell_type": "code",
   "execution_count": 8,
   "id": "df65dda0",
   "metadata": {},
   "outputs": [
    {
     "name": "stdout",
     "output_type": "stream",
     "text": [
      "array('i', [5, 4, 3, 2, 1])\n"
     ]
    }
   ],
   "source": [
    "arr.reverse() \n",
    "print(arr)"
   ]
  },
  {
   "cell_type": "code",
   "execution_count": 8,
   "id": "9a6d8205",
   "metadata": {},
   "outputs": [
    {
     "name": "stdout",
     "output_type": "stream",
     "text": [
      "array('i', [5, 4, 3, 2, 1, 10])\n"
     ]
    }
   ],
   "source": [
    "arr.append(10)\n",
    "print(arr)"
   ]
  },
  {
   "cell_type": "code",
   "execution_count": 9,
   "id": "1b3605ac",
   "metadata": {},
   "outputs": [
    {
     "name": "stdout",
     "output_type": "stream",
     "text": [
      "array('i', [5, 4, 3, 1, 10])\n"
     ]
    }
   ],
   "source": [
    "arr.remove(2)\n",
    "print(arr)"
   ]
  },
  {
   "cell_type": "code",
   "execution_count": 11,
   "id": "04f7bb22",
   "metadata": {},
   "outputs": [
    {
     "name": "stdout",
     "output_type": "stream",
     "text": [
      "2\n"
     ]
    }
   ],
   "source": [
    "print(arr.index(3))"
   ]
  },
  {
   "cell_type": "code",
   "execution_count": 11,
   "id": "1392a585",
   "metadata": {},
   "outputs": [
    {
     "name": "stdout",
     "output_type": "stream",
     "text": [
      "enter size of array8\n",
      "enter 8 elements\n",
      "4\n",
      "15\n",
      "89\n",
      "65\n",
      "678\n",
      "25\n",
      "24\n",
      "21\n",
      "array('i', [4, 15, 89, 65, 678, 25, 24, 21])\n"
     ]
    }
   ],
   "source": [
    "from array import *\n",
    "arr = array(\"i\", [])\n",
    "x = int(input(\"enter size of array\")) \n",
    "print (\"enter %d elements\" %x)\n",
    "for i in range(x) :\n",
    "    n=int(input())\n",
    "    arr.append(n)\n",
    "print(arr)"
   ]
  },
  {
   "cell_type": "code",
   "execution_count": null,
   "id": "1b50603b",
   "metadata": {},
   "outputs": [],
   "source": []
  }
 ],
 "metadata": {
  "kernelspec": {
   "display_name": "Python 3 (ipykernel)",
   "language": "python",
   "name": "python3"
  },
  "language_info": {
   "codemirror_mode": {
    "name": "ipython",
    "version": 3
   },
   "file_extension": ".py",
   "mimetype": "text/x-python",
   "name": "python",
   "nbconvert_exporter": "python",
   "pygments_lexer": "ipython3",
   "version": "3.9.7"
  }
 },
 "nbformat": 4,
 "nbformat_minor": 5
}
