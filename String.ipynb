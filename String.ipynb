{
 "cells": [
  {
   "cell_type": "code",
   "execution_count": 1,
   "id": "40c4ffc7",
   "metadata": {},
   "outputs": [],
   "source": [
    "stg=\"simplilearn\""
   ]
  },
  {
   "cell_type": "code",
   "execution_count": 2,
   "id": "99c8e205",
   "metadata": {},
   "outputs": [
    {
     "name": "stdout",
     "output_type": "stream",
     "text": [
      "simplilearn\n"
     ]
    }
   ],
   "source": [
    "print(stg)"
   ]
  },
  {
   "cell_type": "code",
   "execution_count": 3,
   "id": "84d26c8a",
   "metadata": {},
   "outputs": [
    {
     "data": {
      "text/plain": [
       "11"
      ]
     },
     "execution_count": 3,
     "metadata": {},
     "output_type": "execute_result"
    }
   ],
   "source": [
    "len(stg)"
   ]
  },
  {
   "cell_type": "code",
   "execution_count": 4,
   "id": "ded02d97",
   "metadata": {},
   "outputs": [
    {
     "data": {
      "text/plain": [
       "'m'"
      ]
     },
     "execution_count": 4,
     "metadata": {},
     "output_type": "execute_result"
    }
   ],
   "source": [
    "stg[2]"
   ]
  },
  {
   "cell_type": "code",
   "execution_count": 5,
   "id": "22f6abed",
   "metadata": {},
   "outputs": [
    {
     "name": "stdout",
     "output_type": "stream",
     "text": [
      "i'm a boy\n"
     ]
    }
   ],
   "source": [
    "stg=\"i'm a boy\"\n",
    "print(stg)"
   ]
  },
  {
   "cell_type": "code",
   "execution_count": 6,
   "id": "a0c5d395",
   "metadata": {},
   "outputs": [],
   "source": [
    "stg='''i am a boy\n",
    "and you are a girl'''"
   ]
  },
  {
   "cell_type": "code",
   "execution_count": 7,
   "id": "593272fd",
   "metadata": {},
   "outputs": [
    {
     "name": "stdout",
     "output_type": "stream",
     "text": [
      "i am a boy\n",
      "and you are a girl\n"
     ]
    }
   ],
   "source": [
    "print(stg)"
   ]
  },
  {
   "cell_type": "markdown",
   "id": "9d5369bb",
   "metadata": {},
   "source": [
    "# Changing uppercase to lower case vice versa"
   ]
  },
  {
   "cell_type": "code",
   "execution_count": 8,
   "id": "5b5b75cd",
   "metadata": {},
   "outputs": [],
   "source": [
    "stg=\"Welcome to Simplilearn\""
   ]
  },
  {
   "cell_type": "code",
   "execution_count": 9,
   "id": "815f27bf",
   "metadata": {},
   "outputs": [
    {
     "name": "stdout",
     "output_type": "stream",
     "text": [
      "WELCOME TO SIMPLILEARN\n"
     ]
    }
   ],
   "source": [
    "print(stg.upper())"
   ]
  },
  {
   "cell_type": "code",
   "execution_count": 10,
   "id": "616a3c30",
   "metadata": {},
   "outputs": [
    {
     "name": "stdout",
     "output_type": "stream",
     "text": [
      "welcome to simplilearn\n"
     ]
    }
   ],
   "source": [
    "print(stg.lower())"
   ]
  },
  {
   "cell_type": "code",
   "execution_count": 11,
   "id": "3053b6ac",
   "metadata": {},
   "outputs": [
    {
     "name": "stdout",
     "output_type": "stream",
     "text": [
      "2\n"
     ]
    }
   ],
   "source": [
    "print(stg.find('l'))"
   ]
  },
  {
   "cell_type": "code",
   "execution_count": 12,
   "id": "06b67ae4",
   "metadata": {},
   "outputs": [
    {
     "name": "stdout",
     "output_type": "stream",
     "text": [
      "2\n"
     ]
    }
   ],
   "source": [
    "print(stg.index('l'))"
   ]
  },
  {
   "cell_type": "code",
   "execution_count": 13,
   "id": "fa031da9",
   "metadata": {},
   "outputs": [],
   "source": [
    "x=stg.split(\" \")"
   ]
  },
  {
   "cell_type": "code",
   "execution_count": 14,
   "id": "0e210438",
   "metadata": {},
   "outputs": [
    {
     "name": "stdout",
     "output_type": "stream",
     "text": [
      "['Welcome', 'to', 'Simplilearn']\n"
     ]
    }
   ],
   "source": [
    "print(x)"
   ]
  },
  {
   "cell_type": "code",
   "execution_count": 16,
   "id": "e0939eeb",
   "metadata": {},
   "outputs": [
    {
     "name": "stdout",
     "output_type": "stream",
     "text": [
      "Welcome to Python tutorial\n"
     ]
    }
   ],
   "source": [
    "print(stg.replace(\"Simplilearn\", \"Python tutorial\"))"
   ]
  },
  {
   "cell_type": "code",
   "execution_count": 17,
   "id": "01a0801b",
   "metadata": {},
   "outputs": [
    {
     "name": "stdout",
     "output_type": "stream",
     "text": [
      "('Welcome', ' to ', 'Simplilearn')\n"
     ]
    }
   ],
   "source": [
    "print(stg.rpartition(\" to \"))"
   ]
  },
  {
   "cell_type": "code",
   "execution_count": 20,
   "id": "f5f8f48a",
   "metadata": {},
   "outputs": [
    {
     "name": "stdout",
     "output_type": "stream",
     "text": [
      "good morning\n"
     ]
    }
   ],
   "source": [
    "stg1=\"good\"\n",
    "stg2=\"morning\"\n",
    "stg=stg1+\" \"+stg2\n",
    "print(stg)"
   ]
  },
  {
   "cell_type": "code",
   "execution_count": 21,
   "id": "deec714b",
   "metadata": {},
   "outputs": [
    {
     "name": "stdout",
     "output_type": "stream",
     "text": [
      "good morning\n"
     ]
    }
   ],
   "source": [
    "stg3=\"{} {}\".format(stg1,stg2)\n",
    "print(stg3)"
   ]
  },
  {
   "cell_type": "code",
   "execution_count": 23,
   "id": "41f8192b",
   "metadata": {},
   "outputs": [
    {
     "name": "stdout",
     "output_type": "stream",
     "text": [
      "hey there, all!\n"
     ]
    }
   ],
   "source": [
    "stg1=\"hey\"\n",
    "stg2=\"there\"\n",
    "stg3=\"all\"\n",
    "stg=\"{} {}, {}!\".format(stg1,stg2,stg3)\n",
    "print(stg)"
   ]
  },
  {
   "cell_type": "code",
   "execution_count": null,
   "id": "113cf2eb",
   "metadata": {},
   "outputs": [],
   "source": []
  }
 ],
 "metadata": {
  "kernelspec": {
   "display_name": "Python 3 (ipykernel)",
   "language": "python",
   "name": "python3"
  },
  "language_info": {
   "codemirror_mode": {
    "name": "ipython",
    "version": 3
   },
   "file_extension": ".py",
   "mimetype": "text/x-python",
   "name": "python",
   "nbconvert_exporter": "python",
   "pygments_lexer": "ipython3",
   "version": "3.9.7"
  }
 },
 "nbformat": 4,
 "nbformat_minor": 5
}
